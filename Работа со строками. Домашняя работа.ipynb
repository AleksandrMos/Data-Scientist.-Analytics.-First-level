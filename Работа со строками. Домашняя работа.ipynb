{
 "cells": [
  {
   "cell_type": "markdown",
   "metadata": {
    "id": "0TU0EOUCluzI"
   },
   "source": [
    "## Подготовка данных для задания"
   ]
  },
  {
   "cell_type": "code",
   "execution_count": null,
   "metadata": {
    "id": "lp0-7XZPTNsm"
   },
   "outputs": [],
   "source": [
    "#!pip install pymorphy3"
   ]
  },
  {
   "cell_type": "code",
   "execution_count": 23,
   "metadata": {
    "colab": {
     "base_uri": "https://localhost:8080/",
     "height": 359
    },
    "executionInfo": {
     "elapsed": 767,
     "status": "ok",
     "timestamp": 1632931510917,
     "user": {
      "displayName": "Ketrin Trofimova",
      "photoUrl": "https://lh3.googleusercontent.com/a/default-user=s64",
      "userId": "05400058012601189465"
     },
     "user_tz": -180
    },
    "id": "xmVmCpFNRbnB",
    "outputId": "7d45e681-de26-4818-be85-8a3853867ef8"
   },
   "outputs": [
    {
     "data": {
      "text/html": [
       "<div>\n",
       "<style scoped>\n",
       "    .dataframe tbody tr th:only-of-type {\n",
       "        vertical-align: middle;\n",
       "    }\n",
       "\n",
       "    .dataframe tbody tr th {\n",
       "        vertical-align: top;\n",
       "    }\n",
       "\n",
       "    .dataframe thead th {\n",
       "        text-align: right;\n",
       "    }\n",
       "</style>\n",
       "<table border=\"1\" class=\"dataframe\">\n",
       "  <thead>\n",
       "    <tr style=\"text-align: right;\">\n",
       "      <th></th>\n",
       "      <th>doc_id</th>\n",
       "      <th>word</th>\n",
       "      <th>dummy</th>\n",
       "    </tr>\n",
       "  </thead>\n",
       "  <tbody>\n",
       "    <tr>\n",
       "      <th>6</th>\n",
       "      <td>0</td>\n",
       "      <td>в</td>\n",
       "      <td>10</td>\n",
       "    </tr>\n",
       "    <tr>\n",
       "      <th>29</th>\n",
       "      <td>0</td>\n",
       "      <td>и</td>\n",
       "      <td>7</td>\n",
       "    </tr>\n",
       "    <tr>\n",
       "      <th>37</th>\n",
       "      <td>0</td>\n",
       "      <td>который</td>\n",
       "      <td>5</td>\n",
       "    </tr>\n",
       "    <tr>\n",
       "      <th>111</th>\n",
       "      <td>0</td>\n",
       "      <td>шерлок</td>\n",
       "      <td>4</td>\n",
       "    </tr>\n",
       "    <tr>\n",
       "      <th>77</th>\n",
       "      <td>0</td>\n",
       "      <td>с</td>\n",
       "      <td>4</td>\n",
       "    </tr>\n",
       "    <tr>\n",
       "      <th>84</th>\n",
       "      <td>0</td>\n",
       "      <td>сериал</td>\n",
       "      <td>4</td>\n",
       "    </tr>\n",
       "    <tr>\n",
       "      <th>75</th>\n",
       "      <td>0</td>\n",
       "      <td>риколетти</td>\n",
       "      <td>3</td>\n",
       "    </tr>\n",
       "    <tr>\n",
       "      <th>31</th>\n",
       "      <td>0</td>\n",
       "      <td>история</td>\n",
       "      <td>2</td>\n",
       "    </tr>\n",
       "    <tr>\n",
       "      <th>21</th>\n",
       "      <td>0</td>\n",
       "      <td>для</td>\n",
       "      <td>2</td>\n",
       "    </tr>\n",
       "    <tr>\n",
       "      <th>49</th>\n",
       "      <td>0</td>\n",
       "      <td>о</td>\n",
       "      <td>2</td>\n",
       "    </tr>\n",
       "  </tbody>\n",
       "</table>\n",
       "</div>"
      ],
      "text/plain": [
       "     doc_id       word  dummy\n",
       "6         0          в     10\n",
       "29        0          и      7\n",
       "37        0    который      5\n",
       "111       0     шерлок      4\n",
       "77        0          с      4\n",
       "84        0     сериал      4\n",
       "75        0  риколетти      3\n",
       "31        0    история      2\n",
       "21        0        для      2\n",
       "49        0          о      2"
      ]
     },
     "execution_count": 23,
     "metadata": {},
     "output_type": "execute_result"
    }
   ],
   "source": [
    "import re\n",
    "\n",
    "import pandas as pd\n",
    "import pymorphy3\n",
    "\n",
    "text_df = pd.read_csv(\"content_description.csv\", sep='\\t')\n",
    "#text_df = pd.read_csv(\"./data/content_description.csv\", sep='\\t')\n",
    "text_df.head()\n",
    "\n",
    "# разбиваем тест на слова\n",
    "corpus = []\n",
    "# регулярка для поиска слов\n",
    "regular_expr = r'\\w+'\n",
    "reg_expr_compiled = re.compile(regular_expr)\n",
    "\n",
    "# формируем датасет из отдельных слов\n",
    "for raw_text in text_df.description.values:\n",
    "    # приводим к нижнему регистру\n",
    "    raw_text_lower = raw_text.lower()\n",
    "    # разбиваем текст на слова\n",
    "    text_by_words = reg_expr_compiled.findall(raw_text_lower) \n",
    "    corpus.append(text_by_words)\n",
    "\n",
    "# нормализация текста\n",
    "normalized_corpus = []\n",
    "morph = pymorphy3.MorphAnalyzer()\n",
    "# нормализуем каждое слово в тексте\n",
    "for token_list in corpus:\n",
    "    normalized_token_list = []\n",
    "    for word in token_list:\n",
    "        parsed_token = morph.parse(word)\n",
    "        normal_form = parsed_token[0].normal_form\n",
    "        normalized_token_list.append(normal_form)\n",
    "    normalized_corpus.append(normalized_token_list)\n",
    "\n",
    "# превращаем в DataFrame\n",
    "doc_count = len(normalized_corpus)\n",
    "doc_ids = []\n",
    "tokens = []\n",
    "# формируем два списка-колонки датафрейма\n",
    "for doc_id in range(doc_count):\n",
    "    for token in normalized_corpus[doc_id]:\n",
    "        doc_ids.append(doc_id)\n",
    "        tokens.append(token)\n",
    "\n",
    "tokens_df = pd.DataFrame({\n",
    "    'doc_id': doc_ids,\n",
    "    'word': tokens\n",
    "})\n",
    "# дамми-столбец\n",
    "tokens_df = tokens_df.assign(dummy = 1)\n",
    "# аггрегируем статистики\n",
    "word_count_df = tokens_df.groupby(['doc_id','word'])['dummy'].count().reset_index()\n",
    "\n",
    "word_count_df[word_count_df.doc_id==0].sort_values(by='dummy', ascending=False).head(10)"
   ]
  },
  {
   "cell_type": "markdown",
   "metadata": {
    "id": "oYSsovIKRbnI"
   },
   "source": [
    "# 12.3  Домашняя работа\n",
    "\n",
    "12.3.1 **Задание простого уровня** Для каждого слова подсчитайте процент документов, в которых содержится это слово. Сформируйте dataframe doc_frequency. Процен документов вычисляется по формуле\n",
    "$$\n",
    "d = \\frac{m}{n} \\times 100\n",
    "$$\n",
    "где $m$ - количество документов, в которых встретилось это слово, а $n$ - общее количество документов. Значение в процентах округлите до целых.\n",
    "\n",
    "Посмотрите какие слова оказались в топе - это предлоги и частицы. Такие слова присутствуют во всех документах, а значит, их можно удалить из текста, чтобы оставшиеся слова были более \"осмысленными\". Это упростит анализ текста."
   ]
  },
  {
   "cell_type": "code",
   "execution_count": 24,
   "metadata": {
    "colab": {
     "base_uri": "https://localhost:8080/",
     "height": 32
    },
    "executionInfo": {
     "elapsed": 718,
     "status": "ok",
     "timestamp": 1632931946759,
     "user": {
      "displayName": "Ketrin Trofimova",
      "photoUrl": "https://lh3.googleusercontent.com/a/default-user=s64",
      "userId": "05400058012601189465"
     },
     "user_tz": -180
    },
    "id": "Gvr1-E9aRbnJ",
    "outputId": "5e7c8b9c-8ad4-485b-d725-174a1058a8f1"
   },
   "outputs": [
    {
     "data": {
      "text/html": [
       "<div>\n",
       "<style scoped>\n",
       "    .dataframe tbody tr th:only-of-type {\n",
       "        vertical-align: middle;\n",
       "    }\n",
       "\n",
       "    .dataframe tbody tr th {\n",
       "        vertical-align: top;\n",
       "    }\n",
       "\n",
       "    .dataframe thead th {\n",
       "        text-align: right;\n",
       "    }\n",
       "</style>\n",
       "<table border=\"1\" class=\"dataframe\">\n",
       "  <thead>\n",
       "    <tr style=\"text-align: right;\">\n",
       "      <th></th>\n",
       "      <th>word</th>\n",
       "      <th>doc_freq</th>\n",
       "    </tr>\n",
       "  </thead>\n",
       "  <tbody>\n",
       "    <tr>\n",
       "      <th>171</th>\n",
       "      <td>и</td>\n",
       "      <td>1.000</td>\n",
       "    </tr>\n",
       "    <tr>\n",
       "      <th>41</th>\n",
       "      <td>в</td>\n",
       "      <td>1.000</td>\n",
       "    </tr>\n",
       "    <tr>\n",
       "      <th>269</th>\n",
       "      <td>на</td>\n",
       "      <td>0.875</td>\n",
       "    </tr>\n",
       "    <tr>\n",
       "      <th>468</th>\n",
       "      <td>с</td>\n",
       "      <td>0.875</td>\n",
       "    </tr>\n",
       "    <tr>\n",
       "      <th>323</th>\n",
       "      <td>он</td>\n",
       "      <td>0.750</td>\n",
       "    </tr>\n",
       "    <tr>\n",
       "      <th>480</th>\n",
       "      <td>свой</td>\n",
       "      <td>0.750</td>\n",
       "    </tr>\n",
       "    <tr>\n",
       "      <th>618</th>\n",
       "      <td>что</td>\n",
       "      <td>0.750</td>\n",
       "    </tr>\n",
       "    <tr>\n",
       "      <th>326</th>\n",
       "      <td>онлайн</td>\n",
       "      <td>0.750</td>\n",
       "    </tr>\n",
       "    <tr>\n",
       "      <th>283</th>\n",
       "      <td>не</td>\n",
       "      <td>0.750</td>\n",
       "    </tr>\n",
       "    <tr>\n",
       "      <th>90</th>\n",
       "      <td>год</td>\n",
       "      <td>0.625</td>\n",
       "    </tr>\n",
       "  </tbody>\n",
       "</table>\n",
       "</div>"
      ],
      "text/plain": [
       "       word  doc_freq\n",
       "171       и     1.000\n",
       "41        в     1.000\n",
       "269      на     0.875\n",
       "468       с     0.875\n",
       "323      он     0.750\n",
       "480    свой     0.750\n",
       "618     что     0.750\n",
       "326  онлайн     0.750\n",
       "283      не     0.750\n",
       "90      год     0.625"
      ]
     },
     "execution_count": 24,
     "metadata": {},
     "output_type": "execute_result"
    }
   ],
   "source": [
    "doc_frequency = pd.DataFrame()\n",
    "\n",
    "doc_frequency=word_count_df.groupby('word')[\n",
    "    'doc_id'\n",
    "].count().reset_index(\n",
    "    name='doc_freq'\n",
    ").sort_values(by='doc_freq',ascending=False)\n",
    "\n",
    "doc_frequency.doc_freq /=float(doc_count)\n",
    "\n",
    "doc_frequency.head(10)"
   ]
  },
  {
   "cell_type": "markdown",
   "metadata": {
    "id": "Cfnb-W2uRbnK"
   },
   "source": [
    "12.3.2 **Задание среднего уровня**\n",
    "\n",
    "Воспользуйтесь регулярными выражениями, чтобы извлечь из текста все пары **имя+фамилия**.\n",
    "\n",
    "* неформальное описание регулярки: пара слов идущая друг за другом, каждое из которых начинается с заглавной буквы\n",
    "* анализировать нужно только `doc_id=3`\n",
    "* текст берём из исходного датафрейма `text_df`\n",
    "* заглавная буква в русскоязычном тексте соответствует символьному классу `r'[A-Я]*'`"
   ]
  },
  {
   "cell_type": "code",
   "execution_count": 27,
   "metadata": {
    "id": "fLKkVa_ORbnK"
   },
   "outputs": [],
   "source": [
    "raw_text = text_df.description.values[3]\n",
    "\n",
    "# запишите необходимое регулярное выражение в переменную reg_expr \n",
    "reg_expr = r'\\.\\w+'\n",
    "\n",
    "# скомпилированное выражение добавьте в обьёект reg_expr_compiled\n",
    "reg_expr_compiled = re.compile(reg_expr)\n",
    "\n",
    "# применяем выражение к тексту\n",
    "for g in reg_expr_compiled.findall(raw_text):\n",
    "    print(g)"
   ]
  },
  {
   "cell_type": "markdown",
   "metadata": {
    "id": "nKvd6GYSRbnL"
   },
   "source": [
    "10.3.3 **Задание сложного уровня**. Словарь `genre_dict` содержит слова, которые являются характерными для того или иного жанра. Пользуясь словарём, а так же таблицей `word_count_df`, сформируйте таблицу двумя колонками `doc_id | genre` с жанрами фильмов.\n",
    "\n",
    "Для этого нужно\n",
    "* превратить словарь `genre_dict` в DataFrame формата `word | genre`, сохранить в переменнуб `genres_df`\n",
    "* соединить полученный датафрейм с помощью функции `merge` c ранее полученным датафреймом `word_count_df`, котороый содержит распределение слов по документам. Воспользуйтесь методом соединения `inner`\n",
    "* для каждого документа выбрать жанр документа - это совокупность жанров слов отдельных слов. У одного контента может быть несколько жанров"
   ]
  },
  {
   "cell_type": "code",
   "execution_count": 26,
   "metadata": {
    "id": "8mIEqm72RbnM"
   },
   "outputs": [],
   "source": [
    "import itertools\n",
    "import pandas as pd\n",
    "\n",
    "genre_dict = {\n",
    "    'комедия': ['сатирический', 'авантюрный', 'забавный'],\n",
    "    'мелодрама': ['выбор', 'позор'],\n",
    "    'сказка': ['приключения', 'милый', 'семейный'],\n",
    "    'детектив': ['тайна', 'разгадать', 'загадочный'], \n",
    "    'триллер': ['ужас', 'зловещий', 'нерв']\n",
    "}\n",
    "\n",
    "\n",
    "nested_genres=[[(i,j) for j in genre_dict[i]] for i in genre_dict]\n",
    "flatten_genres=list(itertools.chain(*nested_genres))\n",
    "genres_df=pd.DataFrame(flatten_genres, columns = ['genre','character_word'])\n",
    "\n",
    "doc_to_genres=pd.DataFrame()"
   ]
  },
  {
   "cell_type": "code",
   "execution_count": null,
   "metadata": {},
   "outputs": [],
   "source": []
  }
 ],
 "metadata": {
  "colab": {
   "collapsed_sections": [],
   "name": "Работа со строками. Домашняя работа.ipynb",
   "provenance": []
  },
  "kernelspec": {
   "display_name": "Python 3 (ipykernel)",
   "language": "python",
   "name": "python3"
  },
  "language_info": {
   "codemirror_mode": {
    "name": "ipython",
    "version": 3
   },
   "file_extension": ".py",
   "mimetype": "text/x-python",
   "name": "python",
   "nbconvert_exporter": "python",
   "pygments_lexer": "ipython3",
   "version": "3.10.9"
  }
 },
 "nbformat": 4,
 "nbformat_minor": 1
}
