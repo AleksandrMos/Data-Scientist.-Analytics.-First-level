{
 "cells": [
  {
   "cell_type": "markdown",
   "metadata": {
    "id": "15qs2Elo9J2Z"
   },
   "source": [
    "# Чтение и запись данных, часть 1\n",
    "\n",
    "## Домашнее задание\n",
    "\n",
    "### Описание домашнего задания и формат сдачи\n",
    "\n",
    "Выполните предложенные задачи — впишите свой код в ячейки после комментария `### YOUR CODE HERE ###` и сохраните изменения, используя опцию *Save and Checkpoint* из вкладки меню *File* или кнопку *Save and Checkpoint* на панели инструментов. Итоговый файл в формате `.ipynb` (файл Jupyter Notebook) загрузите в личный кабинет и отправьте на проверку."
   ]
  },
  {
   "cell_type": "markdown",
   "metadata": {
    "id": "0cwH7i-m9J2d"
   },
   "source": [
    "### Задача 1\n",
    "\n",
    "Загрузите содержимое файла `Homework1.csv` в DataFrame и выведите первые пять строк на экран. В следующей ячейке посчитайте среднее значение температуры (столбец `Temperature`) и выведите её на экран."
   ]
  },
  {
   "cell_type": "markdown",
   "metadata": {
    "id": "HCQA4Thv32Js"
   },
   "source": []
  },
  {
   "cell_type": "code",
   "execution_count": 79,
   "metadata": {
    "id": "umL48no79J2a"
   },
   "outputs": [
    {
     "name": "stderr",
     "output_type": "stream",
     "text": [
      "C:\\Users\\Техподдержка Р\\AppData\\Local\\Temp\\ipykernel_9744\\2161668078.py:11: MatplotlibDeprecationWarning: The seaborn styles shipped by Matplotlib are deprecated since 3.6, as they no longer correspond to the styles shipped by seaborn. However, they will remain available as 'seaborn-v0_8-<style>'. Alternatively, directly use the seaborn API instead.\n",
      "  plt.style.use('seaborn-darkgrid')\n"
     ]
    }
   ],
   "source": [
    "import pandas as pd\n",
    "import numpy as np\n",
    "from matplotlib import pyplot as plt\n",
    "%matplotlib inline\n",
    "\n",
    "import math\n",
    "import missingno as msno\n",
    "from datetime import datetime, timedelta\n",
    "\n",
    "import seaborn as sns\n",
    "plt.style.use('seaborn-darkgrid')\n",
    "palette = plt.get_cmap('Set2')\n",
    "\n",
    "import os"
   ]
  },
  {
   "cell_type": "code",
   "execution_count": 57,
   "metadata": {
    "id": "sQsNnb4s9J2e"
   },
   "outputs": [
    {
     "data": {
      "text/html": [
       "<div>\n",
       "<style scoped>\n",
       "    .dataframe tbody tr th:only-of-type {\n",
       "        vertical-align: middle;\n",
       "    }\n",
       "\n",
       "    .dataframe tbody tr th {\n",
       "        vertical-align: top;\n",
       "    }\n",
       "\n",
       "    .dataframe thead th {\n",
       "        text-align: right;\n",
       "    }\n",
       "</style>\n",
       "<table border=\"1\" class=\"dataframe\">\n",
       "  <thead>\n",
       "    <tr style=\"text-align: right;\">\n",
       "      <th></th>\n",
       "      <th>Date</th>\n",
       "      <th>City</th>\n",
       "      <th>Temperature</th>\n",
       "    </tr>\n",
       "    <tr>\n",
       "      <th>id</th>\n",
       "      <th></th>\n",
       "      <th></th>\n",
       "      <th></th>\n",
       "    </tr>\n",
       "  </thead>\n",
       "  <tbody>\n",
       "    <tr>\n",
       "      <th>32208</th>\n",
       "      <td>2012-01-01</td>\n",
       "      <td>New York City</td>\n",
       "      <td>47.4</td>\n",
       "    </tr>\n",
       "    <tr>\n",
       "      <th>32209</th>\n",
       "      <td>2012-01-02</td>\n",
       "      <td>New York City</td>\n",
       "      <td>42.9</td>\n",
       "    </tr>\n",
       "    <tr>\n",
       "      <th>32210</th>\n",
       "      <td>2012-01-03</td>\n",
       "      <td>New York City</td>\n",
       "      <td>29.8</td>\n",
       "    </tr>\n",
       "    <tr>\n",
       "      <th>32211</th>\n",
       "      <td>2012-01-04</td>\n",
       "      <td>New York City</td>\n",
       "      <td>19.1</td>\n",
       "    </tr>\n",
       "    <tr>\n",
       "      <th>32212</th>\n",
       "      <td>2012-01-05</td>\n",
       "      <td>New York City</td>\n",
       "      <td>31.7</td>\n",
       "    </tr>\n",
       "  </tbody>\n",
       "</table>\n",
       "</div>"
      ],
      "text/plain": [
       "            Date           City  Temperature\n",
       "id                                          \n",
       "32208 2012-01-01  New York City         47.4\n",
       "32209 2012-01-02  New York City         42.9\n",
       "32210 2012-01-03  New York City         29.8\n",
       "32211 2012-01-04  New York City         19.1\n",
       "32212 2012-01-05  New York City         31.7"
      ]
     },
     "execution_count": 57,
     "metadata": {},
     "output_type": "execute_result"
    }
   ],
   "source": [
    "df1=pd.read_csv('Homework1.csv',sep=',',index_col=0,parse_dates=['Date'],dayfirst=True)\n",
    "df1.head()"
   ]
  },
  {
   "cell_type": "code",
   "execution_count": 58,
   "metadata": {},
   "outputs": [],
   "source": [
    "f=lambda x:x.median()"
   ]
  },
  {
   "cell_type": "code",
   "execution_count": 59,
   "metadata": {
    "id": "gQFk78sfA27L"
   },
   "outputs": [
    {
     "data": {
      "text/html": [
       "<div>\n",
       "<style scoped>\n",
       "    .dataframe tbody tr th:only-of-type {\n",
       "        vertical-align: middle;\n",
       "    }\n",
       "\n",
       "    .dataframe tbody tr th {\n",
       "        vertical-align: top;\n",
       "    }\n",
       "\n",
       "    .dataframe thead th {\n",
       "        text-align: right;\n",
       "    }\n",
       "</style>\n",
       "<table border=\"1\" class=\"dataframe\">\n",
       "  <thead>\n",
       "    <tr style=\"text-align: right;\">\n",
       "      <th></th>\n",
       "      <th>Date</th>\n",
       "      <th>City</th>\n",
       "      <th>Temperature</th>\n",
       "    </tr>\n",
       "    <tr>\n",
       "      <th>id</th>\n",
       "      <th></th>\n",
       "      <th></th>\n",
       "      <th></th>\n",
       "    </tr>\n",
       "  </thead>\n",
       "  <tbody>\n",
       "    <tr>\n",
       "      <th>32208</th>\n",
       "      <td>2012-01-01</td>\n",
       "      <td>New York City</td>\n",
       "      <td>58.25</td>\n",
       "    </tr>\n",
       "    <tr>\n",
       "      <th>32209</th>\n",
       "      <td>2012-01-02</td>\n",
       "      <td>New York City</td>\n",
       "      <td>58.25</td>\n",
       "    </tr>\n",
       "    <tr>\n",
       "      <th>32210</th>\n",
       "      <td>2012-01-03</td>\n",
       "      <td>New York City</td>\n",
       "      <td>58.25</td>\n",
       "    </tr>\n",
       "    <tr>\n",
       "      <th>32211</th>\n",
       "      <td>2012-01-04</td>\n",
       "      <td>New York City</td>\n",
       "      <td>58.25</td>\n",
       "    </tr>\n",
       "    <tr>\n",
       "      <th>32212</th>\n",
       "      <td>2012-01-05</td>\n",
       "      <td>New York City</td>\n",
       "      <td>58.25</td>\n",
       "    </tr>\n",
       "  </tbody>\n",
       "</table>\n",
       "</div>"
      ],
      "text/plain": [
       "            Date           City  Temperature\n",
       "id                                          \n",
       "32208 2012-01-01  New York City        58.25\n",
       "32209 2012-01-02  New York City        58.25\n",
       "32210 2012-01-03  New York City        58.25\n",
       "32211 2012-01-04  New York City        58.25\n",
       "32212 2012-01-05  New York City        58.25"
      ]
     },
     "execution_count": 59,
     "metadata": {},
     "output_type": "execute_result"
    }
   ],
   "source": [
    "df1['Temperature']=df1['Temperature'].agg(f)\n",
    "df1.head()"
   ]
  },
  {
   "cell_type": "markdown",
   "metadata": {
    "id": "AnxMpuTt9J2j"
   },
   "source": [
    "### Задача 2\n",
    "\n",
    "Сохраните DataFrame из предыдущей задачи в файл `result1.csv`, в качестве разделителя используйте запятую `,`, а в качестве названия столбца-индекса — `index`."
   ]
  },
  {
   "cell_type": "code",
   "execution_count": 60,
   "metadata": {
    "id": "5IT4cBRr9J2j"
   },
   "outputs": [],
   "source": [
    "df1.to_csv('result1.csv',sep=',',index_label='index')"
   ]
  },
  {
   "cell_type": "markdown",
   "metadata": {
    "id": "ZDKXJ3Bk9J2m"
   },
   "source": [
    "### Задача 3\n",
    "\n",
    "Загрузите содержимое файла `Homework1.csv` в DataFrame, при этом отформатируйте столбец с датой (`Date`) и приведите его к стандартизированному виду. Выведите первые пять строк DataFrame на экран."
   ]
  },
  {
   "cell_type": "code",
   "execution_count": 65,
   "metadata": {
    "id": "yXMTcLtU9J2m"
   },
   "outputs": [
    {
     "data": {
      "text/html": [
       "<div>\n",
       "<style scoped>\n",
       "    .dataframe tbody tr th:only-of-type {\n",
       "        vertical-align: middle;\n",
       "    }\n",
       "\n",
       "    .dataframe tbody tr th {\n",
       "        vertical-align: top;\n",
       "    }\n",
       "\n",
       "    .dataframe thead th {\n",
       "        text-align: right;\n",
       "    }\n",
       "</style>\n",
       "<table border=\"1\" class=\"dataframe\">\n",
       "  <thead>\n",
       "    <tr style=\"text-align: right;\">\n",
       "      <th></th>\n",
       "      <th>index</th>\n",
       "      <th>Date</th>\n",
       "      <th>City</th>\n",
       "      <th>Temperature</th>\n",
       "    </tr>\n",
       "  </thead>\n",
       "  <tbody>\n",
       "    <tr>\n",
       "      <th>0</th>\n",
       "      <td>32208</td>\n",
       "      <td>2012-01-01</td>\n",
       "      <td>New York City</td>\n",
       "      <td>58.25</td>\n",
       "    </tr>\n",
       "    <tr>\n",
       "      <th>1</th>\n",
       "      <td>32209</td>\n",
       "      <td>2012-01-02</td>\n",
       "      <td>New York City</td>\n",
       "      <td>58.25</td>\n",
       "    </tr>\n",
       "    <tr>\n",
       "      <th>2</th>\n",
       "      <td>32210</td>\n",
       "      <td>2012-01-03</td>\n",
       "      <td>New York City</td>\n",
       "      <td>58.25</td>\n",
       "    </tr>\n",
       "    <tr>\n",
       "      <th>3</th>\n",
       "      <td>32211</td>\n",
       "      <td>2012-01-04</td>\n",
       "      <td>New York City</td>\n",
       "      <td>58.25</td>\n",
       "    </tr>\n",
       "    <tr>\n",
       "      <th>4</th>\n",
       "      <td>32212</td>\n",
       "      <td>2012-01-05</td>\n",
       "      <td>New York City</td>\n",
       "      <td>58.25</td>\n",
       "    </tr>\n",
       "  </tbody>\n",
       "</table>\n",
       "</div>"
      ],
      "text/plain": [
       "   index        Date           City  Temperature\n",
       "0  32208  2012-01-01  New York City        58.25\n",
       "1  32209  2012-01-02  New York City        58.25\n",
       "2  32210  2012-01-03  New York City        58.25\n",
       "3  32211  2012-01-04  New York City        58.25\n",
       "4  32212  2012-01-05  New York City        58.25"
      ]
     },
     "execution_count": 65,
     "metadata": {},
     "output_type": "execute_result"
    }
   ],
   "source": [
    "df2=pd.read_csv('Homework1.csv',sep=',',index_col=0,parse_dates=['Date'],dayfirst=True)\n",
    "df1.head()"
   ]
  },
  {
   "cell_type": "markdown",
   "metadata": {
    "id": "azlN6qCH9J2o"
   },
   "source": [
    "### Задача 4\n",
    "\n",
    "Сохраните DataFrame из предыдущей задачи в файл `result2.xlsx`."
   ]
  },
  {
   "cell_type": "code",
   "execution_count": 68,
   "metadata": {
    "id": "FxG6Ykjw9J2p"
   },
   "outputs": [],
   "source": [
    "df1.to_csv('result2.xlsx',sep=',',index_label='index')"
   ]
  },
  {
   "cell_type": "markdown",
   "metadata": {
    "id": "s5kL1jOp9J2r"
   },
   "source": [
    "### Задача 5\n",
    "\n",
    "Загрузите содержимое файла `Homework2.csv` в DataFrame, укажите правильный разделитель столбцов, отформатируйте столбец с датой (`Date`) и приведите его к стандартизированному виду. Выведите первые пять строк DataFrame на экран."
   ]
  },
  {
   "cell_type": "code",
   "execution_count": 9,
   "metadata": {
    "id": "l4C2wTYW9J2s"
   },
   "outputs": [
    {
     "data": {
      "text/html": [
       "<div>\n",
       "<style scoped>\n",
       "    .dataframe tbody tr th:only-of-type {\n",
       "        vertical-align: middle;\n",
       "    }\n",
       "\n",
       "    .dataframe tbody tr th {\n",
       "        vertical-align: top;\n",
       "    }\n",
       "\n",
       "    .dataframe thead th {\n",
       "        text-align: right;\n",
       "    }\n",
       "</style>\n",
       "<table border=\"1\" class=\"dataframe\">\n",
       "  <thead>\n",
       "    <tr style=\"text-align: right;\">\n",
       "      <th></th>\n",
       "      <th>Date</th>\n",
       "      <th>City</th>\n",
       "      <th>Temperature</th>\n",
       "    </tr>\n",
       "    <tr>\n",
       "      <th>id</th>\n",
       "      <th></th>\n",
       "      <th></th>\n",
       "      <th></th>\n",
       "    </tr>\n",
       "  </thead>\n",
       "  <tbody>\n",
       "    <tr>\n",
       "      <th>32208</th>\n",
       "      <td>2012-01-01</td>\n",
       "      <td>New York City</td>\n",
       "      <td>47.4</td>\n",
       "    </tr>\n",
       "    <tr>\n",
       "      <th>32209</th>\n",
       "      <td>2012-01-02</td>\n",
       "      <td>New York City</td>\n",
       "      <td>42.9</td>\n",
       "    </tr>\n",
       "    <tr>\n",
       "      <th>32210</th>\n",
       "      <td>2012-01-03</td>\n",
       "      <td>New York City</td>\n",
       "      <td>29.8</td>\n",
       "    </tr>\n",
       "    <tr>\n",
       "      <th>32211</th>\n",
       "      <td>2012-01-04</td>\n",
       "      <td>New York City</td>\n",
       "      <td>19.1</td>\n",
       "    </tr>\n",
       "    <tr>\n",
       "      <th>32212</th>\n",
       "      <td>2012-01-05</td>\n",
       "      <td>New York City</td>\n",
       "      <td>31.7</td>\n",
       "    </tr>\n",
       "  </tbody>\n",
       "</table>\n",
       "</div>"
      ],
      "text/plain": [
       "            Date           City  Temperature\n",
       "id                                          \n",
       "32208 2012-01-01  New York City         47.4\n",
       "32209 2012-01-02  New York City         42.9\n",
       "32210 2012-01-03  New York City         29.8\n",
       "32211 2012-01-04  New York City         19.1\n",
       "32212 2012-01-05  New York City         31.7"
      ]
     },
     "execution_count": 9,
     "metadata": {},
     "output_type": "execute_result"
    }
   ],
   "source": [
    "df2=pd.read_csv('Homework2.csv',sep=';',index_col=0,parse_dates=['Date'],dayfirst=True)\n",
    "df2.head()"
   ]
  },
  {
   "cell_type": "markdown",
   "metadata": {
    "id": "-W359rZD9J2u"
   },
   "source": [
    "### Задача 6\n",
    "\n",
    "Сохраните DataFrame из предыдущей задачи в файл `result3.xlsx`, при сохранении задайте листу имя `MySheet`.\n",
    "\n",
    "(Примечание: для указания имени листа в файле Excel как при чтении, так и при записи используется параметр `sheet_name`.)"
   ]
  },
  {
   "cell_type": "code",
   "execution_count": 10,
   "metadata": {
    "id": "88sZHxWv9J2v"
   },
   "outputs": [],
   "source": [
    "df2=df2.to_excel('result3.xlsx',sheet_name='MySheet')"
   ]
  },
  {
   "cell_type": "markdown",
   "metadata": {
    "id": "c2d_HZ8F9J2x"
   },
   "source": [
    "### Задача 7\n",
    "\n",
    "Загрузите содержимое файла `Homework3.xlsx` в DataFrame, отформатируйте столбец с датой (`Date`) и приведите его к стандартизированному виду. Выведите первые пять строк DataFrame на экран.\n",
    "\n",
    "После этого в следующей ячейке сохраните полученный DataFrame в этот же файл, в лист с названием `MySheet`. При сохранении передайте в функцию сохранения параметр `index` c булевым значением `False`, чтобы не сохранять столбец-индекс.\n",
    "\n",
    "Затем откройте файл `Homework3.xlsx` с помощью Excel или аналога и посмотрите, сколько листов сейчас содержит этот файл. Ответ запишите в секции `### YOUR COMMENTS HERE ###` под блоками для кода."
   ]
  },
  {
   "cell_type": "code",
   "execution_count": 17,
   "metadata": {
    "id": "jc6HDN0T9J2x"
   },
   "outputs": [
    {
     "data": {
      "text/html": [
       "<div>\n",
       "<style scoped>\n",
       "    .dataframe tbody tr th:only-of-type {\n",
       "        vertical-align: middle;\n",
       "    }\n",
       "\n",
       "    .dataframe tbody tr th {\n",
       "        vertical-align: top;\n",
       "    }\n",
       "\n",
       "    .dataframe thead th {\n",
       "        text-align: right;\n",
       "    }\n",
       "</style>\n",
       "<table border=\"1\" class=\"dataframe\">\n",
       "  <thead>\n",
       "    <tr style=\"text-align: right;\">\n",
       "      <th></th>\n",
       "      <th>Date</th>\n",
       "      <th>City</th>\n",
       "      <th>Temperature</th>\n",
       "    </tr>\n",
       "    <tr>\n",
       "      <th>id</th>\n",
       "      <th></th>\n",
       "      <th></th>\n",
       "      <th></th>\n",
       "    </tr>\n",
       "  </thead>\n",
       "  <tbody>\n",
       "    <tr>\n",
       "      <th>32208</th>\n",
       "      <td>2012-01-01</td>\n",
       "      <td>New York City</td>\n",
       "      <td>47.4</td>\n",
       "    </tr>\n",
       "    <tr>\n",
       "      <th>32209</th>\n",
       "      <td>2012-01-02</td>\n",
       "      <td>New York City</td>\n",
       "      <td>42.9</td>\n",
       "    </tr>\n",
       "    <tr>\n",
       "      <th>32210</th>\n",
       "      <td>2012-01-03</td>\n",
       "      <td>New York City</td>\n",
       "      <td>29.8</td>\n",
       "    </tr>\n",
       "    <tr>\n",
       "      <th>32211</th>\n",
       "      <td>2012-01-04</td>\n",
       "      <td>New York City</td>\n",
       "      <td>19.1</td>\n",
       "    </tr>\n",
       "    <tr>\n",
       "      <th>32212</th>\n",
       "      <td>2012-01-05</td>\n",
       "      <td>New York City</td>\n",
       "      <td>31.7</td>\n",
       "    </tr>\n",
       "    <tr>\n",
       "      <th>32213</th>\n",
       "      <td>2012-01-06</td>\n",
       "      <td>New York City</td>\n",
       "      <td>41.5</td>\n",
       "    </tr>\n",
       "    <tr>\n",
       "      <th>32214</th>\n",
       "      <td>2012-01-07</td>\n",
       "      <td>New York City</td>\n",
       "      <td>51.6</td>\n",
       "    </tr>\n",
       "    <tr>\n",
       "      <th>32215</th>\n",
       "      <td>2012-01-08</td>\n",
       "      <td>New York City</td>\n",
       "      <td>45.1</td>\n",
       "    </tr>\n",
       "    <tr>\n",
       "      <th>32216</th>\n",
       "      <td>2012-01-09</td>\n",
       "      <td>New York City</td>\n",
       "      <td>35.0</td>\n",
       "    </tr>\n",
       "    <tr>\n",
       "      <th>32217</th>\n",
       "      <td>2012-01-10</td>\n",
       "      <td>New York City</td>\n",
       "      <td>39.4</td>\n",
       "    </tr>\n",
       "    <tr>\n",
       "      <th>32218</th>\n",
       "      <td>2012-01-11</td>\n",
       "      <td>New York City</td>\n",
       "      <td>42.2</td>\n",
       "    </tr>\n",
       "    <tr>\n",
       "      <th>32219</th>\n",
       "      <td>2012-01-12</td>\n",
       "      <td>New York City</td>\n",
       "      <td>43.3</td>\n",
       "    </tr>\n",
       "    <tr>\n",
       "      <th>32220</th>\n",
       "      <td>2012-01-13</td>\n",
       "      <td>New York City</td>\n",
       "      <td>39.1</td>\n",
       "    </tr>\n",
       "    <tr>\n",
       "      <th>32221</th>\n",
       "      <td>2012-01-14</td>\n",
       "      <td>New York City</td>\n",
       "      <td>29.7</td>\n",
       "    </tr>\n",
       "    <tr>\n",
       "      <th>32222</th>\n",
       "      <td>2012-01-15</td>\n",
       "      <td>New York City</td>\n",
       "      <td>23.3</td>\n",
       "    </tr>\n",
       "    <tr>\n",
       "      <th>32223</th>\n",
       "      <td>2012-01-16</td>\n",
       "      <td>New York City</td>\n",
       "      <td>22.7</td>\n",
       "    </tr>\n",
       "    <tr>\n",
       "      <th>32224</th>\n",
       "      <td>2012-01-17</td>\n",
       "      <td>New York City</td>\n",
       "      <td>39.0</td>\n",
       "    </tr>\n",
       "    <tr>\n",
       "      <th>32225</th>\n",
       "      <td>2012-01-18</td>\n",
       "      <td>New York City</td>\n",
       "      <td>50.8</td>\n",
       "    </tr>\n",
       "    <tr>\n",
       "      <th>32226</th>\n",
       "      <td>2012-01-19</td>\n",
       "      <td>New York City</td>\n",
       "      <td>26.4</td>\n",
       "    </tr>\n",
       "    <tr>\n",
       "      <th>32227</th>\n",
       "      <td>2012-01-20</td>\n",
       "      <td>New York City</td>\n",
       "      <td>31.9</td>\n",
       "    </tr>\n",
       "    <tr>\n",
       "      <th>32228</th>\n",
       "      <td>2012-01-21</td>\n",
       "      <td>New York City</td>\n",
       "      <td>26.4</td>\n",
       "    </tr>\n",
       "    <tr>\n",
       "      <th>32229</th>\n",
       "      <td>2012-01-22</td>\n",
       "      <td>New York City</td>\n",
       "      <td>24.4</td>\n",
       "    </tr>\n",
       "    <tr>\n",
       "      <th>32230</th>\n",
       "      <td>2012-01-23</td>\n",
       "      <td>New York City</td>\n",
       "      <td>37.2</td>\n",
       "    </tr>\n",
       "    <tr>\n",
       "      <th>32231</th>\n",
       "      <td>2012-01-24</td>\n",
       "      <td>New York City</td>\n",
       "      <td>49.1</td>\n",
       "    </tr>\n",
       "    <tr>\n",
       "      <th>32232</th>\n",
       "      <td>2012-01-25</td>\n",
       "      <td>New York City</td>\n",
       "      <td>41.6</td>\n",
       "    </tr>\n",
       "    <tr>\n",
       "      <th>32233</th>\n",
       "      <td>2012-01-26</td>\n",
       "      <td>New York City</td>\n",
       "      <td>36.5</td>\n",
       "    </tr>\n",
       "    <tr>\n",
       "      <th>32234</th>\n",
       "      <td>2012-01-27</td>\n",
       "      <td>New York City</td>\n",
       "      <td>45.8</td>\n",
       "    </tr>\n",
       "    <tr>\n",
       "      <th>32235</th>\n",
       "      <td>2012-01-28</td>\n",
       "      <td>New York City</td>\n",
       "      <td>43.0</td>\n",
       "    </tr>\n",
       "    <tr>\n",
       "      <th>32236</th>\n",
       "      <td>2012-01-29</td>\n",
       "      <td>New York City</td>\n",
       "      <td>40.1</td>\n",
       "    </tr>\n",
       "    <tr>\n",
       "      <th>32237</th>\n",
       "      <td>2012-01-30</td>\n",
       "      <td>New York City</td>\n",
       "      <td>37.8</td>\n",
       "    </tr>\n",
       "  </tbody>\n",
       "</table>\n",
       "</div>"
      ],
      "text/plain": [
       "            Date           City  Temperature\n",
       "id                                          \n",
       "32208 2012-01-01  New York City         47.4\n",
       "32209 2012-01-02  New York City         42.9\n",
       "32210 2012-01-03  New York City         29.8\n",
       "32211 2012-01-04  New York City         19.1\n",
       "32212 2012-01-05  New York City         31.7\n",
       "32213 2012-01-06  New York City         41.5\n",
       "32214 2012-01-07  New York City         51.6\n",
       "32215 2012-01-08  New York City         45.1\n",
       "32216 2012-01-09  New York City         35.0\n",
       "32217 2012-01-10  New York City         39.4\n",
       "32218 2012-01-11  New York City         42.2\n",
       "32219 2012-01-12  New York City         43.3\n",
       "32220 2012-01-13  New York City         39.1\n",
       "32221 2012-01-14  New York City         29.7\n",
       "32222 2012-01-15  New York City         23.3\n",
       "32223 2012-01-16  New York City         22.7\n",
       "32224 2012-01-17  New York City         39.0\n",
       "32225 2012-01-18  New York City         50.8\n",
       "32226 2012-01-19  New York City         26.4\n",
       "32227 2012-01-20  New York City         31.9\n",
       "32228 2012-01-21  New York City         26.4\n",
       "32229 2012-01-22  New York City         24.4\n",
       "32230 2012-01-23  New York City         37.2\n",
       "32231 2012-01-24  New York City         49.1\n",
       "32232 2012-01-25  New York City         41.6\n",
       "32233 2012-01-26  New York City         36.5\n",
       "32234 2012-01-27  New York City         45.8\n",
       "32235 2012-01-28  New York City         43.0\n",
       "32236 2012-01-29  New York City         40.1\n",
       "32237 2012-01-30  New York City         37.8"
      ]
     },
     "execution_count": 17,
     "metadata": {},
     "output_type": "execute_result"
    }
   ],
   "source": [
    "df3=pd.read_excel('Homework3.xlsx',index_col=0)\n",
    "df3.head(30)"
   ]
  },
  {
   "cell_type": "code",
   "execution_count": 18,
   "metadata": {
    "id": "sXAstror9J2z"
   },
   "outputs": [],
   "source": [
    "df3=df3.to_excel('result3.xlsx',sheet_name='MySheet', index=False)"
   ]
  },
  {
   "cell_type": "markdown",
   "metadata": {
    "id": "EdPpkCwP9J22"
   },
   "source": [
    "**Ответ:**\n",
    "В таблице Excel содержится один лист с названием MySheet"
   ]
  },
  {
   "cell_type": "markdown",
   "metadata": {
    "id": "yBb6Imck9J23"
   },
   "source": [
    "### Задача 8\n",
    "\n",
    "Загрузите содержимое файлов `Homework1.csv` и `Homework4.csv` в разные датафреймы (DataFrame), выведите первые пять строк каждого датафрейма на экран. После этого объедините датафреймы по столбцу `id` с использованием метода `merge`, выведите первые пять строк объединённого датафрейма на экран и запишите объединённый датафрейм в файл `result4.csv`, указав в качестве разделителя точку с запятой `;`."
   ]
  },
  {
   "cell_type": "code",
   "execution_count": 31,
   "metadata": {
    "id": "goFcjL689J23"
   },
   "outputs": [
    {
     "data": {
      "text/html": [
       "<div>\n",
       "<style scoped>\n",
       "    .dataframe tbody tr th:only-of-type {\n",
       "        vertical-align: middle;\n",
       "    }\n",
       "\n",
       "    .dataframe tbody tr th {\n",
       "        vertical-align: top;\n",
       "    }\n",
       "\n",
       "    .dataframe thead th {\n",
       "        text-align: right;\n",
       "    }\n",
       "</style>\n",
       "<table border=\"1\" class=\"dataframe\">\n",
       "  <thead>\n",
       "    <tr style=\"text-align: right;\">\n",
       "      <th></th>\n",
       "      <th>Date</th>\n",
       "      <th>City</th>\n",
       "      <th>Temperature</th>\n",
       "    </tr>\n",
       "    <tr>\n",
       "      <th>id</th>\n",
       "      <th></th>\n",
       "      <th></th>\n",
       "      <th></th>\n",
       "    </tr>\n",
       "  </thead>\n",
       "  <tbody>\n",
       "    <tr>\n",
       "      <th>32208</th>\n",
       "      <td>2012-01-01</td>\n",
       "      <td>New York City</td>\n",
       "      <td>47.4</td>\n",
       "    </tr>\n",
       "    <tr>\n",
       "      <th>32209</th>\n",
       "      <td>2012-01-02</td>\n",
       "      <td>New York City</td>\n",
       "      <td>42.9</td>\n",
       "    </tr>\n",
       "    <tr>\n",
       "      <th>32210</th>\n",
       "      <td>2012-01-03</td>\n",
       "      <td>New York City</td>\n",
       "      <td>29.8</td>\n",
       "    </tr>\n",
       "    <tr>\n",
       "      <th>32211</th>\n",
       "      <td>2012-01-04</td>\n",
       "      <td>New York City</td>\n",
       "      <td>19.1</td>\n",
       "    </tr>\n",
       "    <tr>\n",
       "      <th>32212</th>\n",
       "      <td>2012-01-05</td>\n",
       "      <td>New York City</td>\n",
       "      <td>31.7</td>\n",
       "    </tr>\n",
       "  </tbody>\n",
       "</table>\n",
       "</div>"
      ],
      "text/plain": [
       "            Date           City  Temperature\n",
       "id                                          \n",
       "32208 2012-01-01  New York City         47.4\n",
       "32209 2012-01-02  New York City         42.9\n",
       "32210 2012-01-03  New York City         29.8\n",
       "32211 2012-01-04  New York City         19.1\n",
       "32212 2012-01-05  New York City         31.7"
      ]
     },
     "execution_count": 31,
     "metadata": {},
     "output_type": "execute_result"
    }
   ],
   "source": [
    "df4=pd.read_csv('Homework1.csv',sep=',',index_col=0,parse_dates=['Date'],dayfirst=True)\n",
    "df4.head()"
   ]
  },
  {
   "cell_type": "code",
   "execution_count": 32,
   "metadata": {
    "id": "F0g565uP9J25"
   },
   "outputs": [
    {
     "data": {
      "text/html": [
       "<div>\n",
       "<style scoped>\n",
       "    .dataframe tbody tr th:only-of-type {\n",
       "        vertical-align: middle;\n",
       "    }\n",
       "\n",
       "    .dataframe tbody tr th {\n",
       "        vertical-align: top;\n",
       "    }\n",
       "\n",
       "    .dataframe thead th {\n",
       "        text-align: right;\n",
       "    }\n",
       "</style>\n",
       "<table border=\"1\" class=\"dataframe\">\n",
       "  <thead>\n",
       "    <tr style=\"text-align: right;\">\n",
       "      <th></th>\n",
       "      <th>Sales</th>\n",
       "    </tr>\n",
       "    <tr>\n",
       "      <th>id</th>\n",
       "      <th></th>\n",
       "    </tr>\n",
       "  </thead>\n",
       "  <tbody>\n",
       "    <tr>\n",
       "      <th>32208</th>\n",
       "      <td>36</td>\n",
       "    </tr>\n",
       "    <tr>\n",
       "      <th>32209</th>\n",
       "      <td>34</td>\n",
       "    </tr>\n",
       "    <tr>\n",
       "      <th>32210</th>\n",
       "      <td>40</td>\n",
       "    </tr>\n",
       "    <tr>\n",
       "      <th>32211</th>\n",
       "      <td>35</td>\n",
       "    </tr>\n",
       "    <tr>\n",
       "      <th>32212</th>\n",
       "      <td>48</td>\n",
       "    </tr>\n",
       "  </tbody>\n",
       "</table>\n",
       "</div>"
      ],
      "text/plain": [
       "       Sales\n",
       "id          \n",
       "32208     36\n",
       "32209     34\n",
       "32210     40\n",
       "32211     35\n",
       "32212     48"
      ]
     },
     "execution_count": 32,
     "metadata": {},
     "output_type": "execute_result"
    }
   ],
   "source": [
    "df5=pd.read_csv('Homework4.csv',index_col=0)\n",
    "df5.head()"
   ]
  },
  {
   "cell_type": "code",
   "execution_count": 33,
   "metadata": {
    "id": "UFZzPxRk9J27"
   },
   "outputs": [
    {
     "data": {
      "text/html": [
       "<div>\n",
       "<style scoped>\n",
       "    .dataframe tbody tr th:only-of-type {\n",
       "        vertical-align: middle;\n",
       "    }\n",
       "\n",
       "    .dataframe tbody tr th {\n",
       "        vertical-align: top;\n",
       "    }\n",
       "\n",
       "    .dataframe thead th {\n",
       "        text-align: right;\n",
       "    }\n",
       "</style>\n",
       "<table border=\"1\" class=\"dataframe\">\n",
       "  <thead>\n",
       "    <tr style=\"text-align: right;\">\n",
       "      <th></th>\n",
       "      <th>Date</th>\n",
       "      <th>City</th>\n",
       "      <th>Temperature</th>\n",
       "      <th>Sales</th>\n",
       "    </tr>\n",
       "    <tr>\n",
       "      <th>id</th>\n",
       "      <th></th>\n",
       "      <th></th>\n",
       "      <th></th>\n",
       "      <th></th>\n",
       "    </tr>\n",
       "  </thead>\n",
       "  <tbody>\n",
       "    <tr>\n",
       "      <th>32208</th>\n",
       "      <td>2012-01-01</td>\n",
       "      <td>New York City</td>\n",
       "      <td>47.4</td>\n",
       "      <td>36</td>\n",
       "    </tr>\n",
       "    <tr>\n",
       "      <th>32209</th>\n",
       "      <td>2012-01-02</td>\n",
       "      <td>New York City</td>\n",
       "      <td>42.9</td>\n",
       "      <td>34</td>\n",
       "    </tr>\n",
       "    <tr>\n",
       "      <th>32210</th>\n",
       "      <td>2012-01-03</td>\n",
       "      <td>New York City</td>\n",
       "      <td>29.8</td>\n",
       "      <td>40</td>\n",
       "    </tr>\n",
       "    <tr>\n",
       "      <th>32211</th>\n",
       "      <td>2012-01-04</td>\n",
       "      <td>New York City</td>\n",
       "      <td>19.1</td>\n",
       "      <td>35</td>\n",
       "    </tr>\n",
       "    <tr>\n",
       "      <th>32212</th>\n",
       "      <td>2012-01-05</td>\n",
       "      <td>New York City</td>\n",
       "      <td>31.7</td>\n",
       "      <td>48</td>\n",
       "    </tr>\n",
       "    <tr>\n",
       "      <th>...</th>\n",
       "      <td>...</td>\n",
       "      <td>...</td>\n",
       "      <td>...</td>\n",
       "      <td>...</td>\n",
       "    </tr>\n",
       "    <tr>\n",
       "      <th>32569</th>\n",
       "      <td>2012-12-27</td>\n",
       "      <td>New York City</td>\n",
       "      <td>39.1</td>\n",
       "      <td>48</td>\n",
       "    </tr>\n",
       "    <tr>\n",
       "      <th>32570</th>\n",
       "      <td>2012-12-28</td>\n",
       "      <td>New York City</td>\n",
       "      <td>33.8</td>\n",
       "      <td>47</td>\n",
       "    </tr>\n",
       "    <tr>\n",
       "      <th>32571</th>\n",
       "      <td>2012-12-29</td>\n",
       "      <td>New York City</td>\n",
       "      <td>33.5</td>\n",
       "      <td>33</td>\n",
       "    </tr>\n",
       "    <tr>\n",
       "      <th>32572</th>\n",
       "      <td>2012-12-30</td>\n",
       "      <td>New York City</td>\n",
       "      <td>33.5</td>\n",
       "      <td>36</td>\n",
       "    </tr>\n",
       "    <tr>\n",
       "      <th>32573</th>\n",
       "      <td>2012-12-31</td>\n",
       "      <td>New York City</td>\n",
       "      <td>33.0</td>\n",
       "      <td>39</td>\n",
       "    </tr>\n",
       "  </tbody>\n",
       "</table>\n",
       "<p>366 rows × 4 columns</p>\n",
       "</div>"
      ],
      "text/plain": [
       "            Date           City  Temperature  Sales\n",
       "id                                                 \n",
       "32208 2012-01-01  New York City         47.4     36\n",
       "32209 2012-01-02  New York City         42.9     34\n",
       "32210 2012-01-03  New York City         29.8     40\n",
       "32211 2012-01-04  New York City         19.1     35\n",
       "32212 2012-01-05  New York City         31.7     48\n",
       "...          ...            ...          ...    ...\n",
       "32569 2012-12-27  New York City         39.1     48\n",
       "32570 2012-12-28  New York City         33.8     47\n",
       "32571 2012-12-29  New York City         33.5     33\n",
       "32572 2012-12-30  New York City         33.5     36\n",
       "32573 2012-12-31  New York City         33.0     39\n",
       "\n",
       "[366 rows x 4 columns]"
      ]
     },
     "execution_count": 33,
     "metadata": {},
     "output_type": "execute_result"
    }
   ],
   "source": [
    "df4 = df4.merge(df5, how='left', on='id')\n",
    "df4"
   ]
  },
  {
   "cell_type": "code",
   "execution_count": 34,
   "metadata": {
    "id": "c7adGIJJ9J2_"
   },
   "outputs": [],
   "source": [
    "df4.to_csv('result4.csv',sep=';')"
   ]
  },
  {
   "cell_type": "markdown",
   "metadata": {
    "id": "oS0_c7Uz9J3B"
   },
   "source": [
    "## Дополнительные (необязательные) задачи\n",
    "\n",
    "### Задача 9\n",
    "\n",
    "Загрузите содержимое файлов `Homework2.csv` и `Homework5.xlsx` в разные датафреймы (DataFrame), при этом в каждом датафрейме отформатируйте столбец с датой (`Date`) и приведите его к стандартизированному виду. После этого выведите первые пять строк каждого датафрейма на экран. Затем объедините датафреймы по столбцу `Date` с использованием метода `merge`, выведите первые пять строк объединённого датафрейма на экран и запишите объединённый датафрейм в файл `result5.csv`, указав в качестве разделителя символ табуляции `\\t`."
   ]
  },
  {
   "cell_type": "code",
   "execution_count": 66,
   "metadata": {
    "id": "Bt7ucuc_9J3C"
   },
   "outputs": [
    {
     "data": {
      "text/html": [
       "<div>\n",
       "<style scoped>\n",
       "    .dataframe tbody tr th:only-of-type {\n",
       "        vertical-align: middle;\n",
       "    }\n",
       "\n",
       "    .dataframe tbody tr th {\n",
       "        vertical-align: top;\n",
       "    }\n",
       "\n",
       "    .dataframe thead th {\n",
       "        text-align: right;\n",
       "    }\n",
       "</style>\n",
       "<table border=\"1\" class=\"dataframe\">\n",
       "  <thead>\n",
       "    <tr style=\"text-align: right;\">\n",
       "      <th></th>\n",
       "      <th>Date</th>\n",
       "      <th>City</th>\n",
       "      <th>Temperature</th>\n",
       "    </tr>\n",
       "    <tr>\n",
       "      <th>id</th>\n",
       "      <th></th>\n",
       "      <th></th>\n",
       "      <th></th>\n",
       "    </tr>\n",
       "  </thead>\n",
       "  <tbody>\n",
       "    <tr>\n",
       "      <th>32208</th>\n",
       "      <td>2012-01-01</td>\n",
       "      <td>New York City</td>\n",
       "      <td>47.4</td>\n",
       "    </tr>\n",
       "    <tr>\n",
       "      <th>32209</th>\n",
       "      <td>2012-01-02</td>\n",
       "      <td>New York City</td>\n",
       "      <td>42.9</td>\n",
       "    </tr>\n",
       "    <tr>\n",
       "      <th>32210</th>\n",
       "      <td>2012-01-03</td>\n",
       "      <td>New York City</td>\n",
       "      <td>29.8</td>\n",
       "    </tr>\n",
       "    <tr>\n",
       "      <th>32211</th>\n",
       "      <td>2012-01-04</td>\n",
       "      <td>New York City</td>\n",
       "      <td>19.1</td>\n",
       "    </tr>\n",
       "    <tr>\n",
       "      <th>32212</th>\n",
       "      <td>2012-01-05</td>\n",
       "      <td>New York City</td>\n",
       "      <td>31.7</td>\n",
       "    </tr>\n",
       "  </tbody>\n",
       "</table>\n",
       "</div>"
      ],
      "text/plain": [
       "            Date           City  Temperature\n",
       "id                                          \n",
       "32208 2012-01-01  New York City         47.4\n",
       "32209 2012-01-02  New York City         42.9\n",
       "32210 2012-01-03  New York City         29.8\n",
       "32211 2012-01-04  New York City         19.1\n",
       "32212 2012-01-05  New York City         31.7"
      ]
     },
     "execution_count": 66,
     "metadata": {},
     "output_type": "execute_result"
    }
   ],
   "source": [
    "df6=pd.read_csv('Homework2.csv',sep=';',index_col=0,parse_dates=['Date'],dayfirst=True)\n",
    "df6.head()"
   ]
  },
  {
   "cell_type": "code",
   "execution_count": 67,
   "metadata": {
    "id": "H0DhY_TZ9J3E"
   },
   "outputs": [
    {
     "name": "stdout",
     "output_type": "stream",
     "text": [
      "<class 'pandas.core.frame.DataFrame'>\n",
      "RangeIndex: 366 entries, 0 to 365\n",
      "Data columns (total 2 columns):\n",
      " #   Column  Non-Null Count  Dtype         \n",
      "---  ------  --------------  -----         \n",
      " 0   Date    366 non-null    datetime64[ns]\n",
      " 1   Sales   366 non-null    int64         \n",
      "dtypes: datetime64[ns](1), int64(1)\n",
      "memory usage: 5.8 KB\n"
     ]
    }
   ],
   "source": [
    "df7=pd.read_excel('Homework5.xlsx',dtype={'Date':'datetime64[ns]'})\n",
    "df7.info()"
   ]
  },
  {
   "cell_type": "code",
   "execution_count": 68,
   "metadata": {
    "id": "HyoM-BTI9J3H"
   },
   "outputs": [
    {
     "data": {
      "text/html": [
       "<div>\n",
       "<style scoped>\n",
       "    .dataframe tbody tr th:only-of-type {\n",
       "        vertical-align: middle;\n",
       "    }\n",
       "\n",
       "    .dataframe tbody tr th {\n",
       "        vertical-align: top;\n",
       "    }\n",
       "\n",
       "    .dataframe thead th {\n",
       "        text-align: right;\n",
       "    }\n",
       "</style>\n",
       "<table border=\"1\" class=\"dataframe\">\n",
       "  <thead>\n",
       "    <tr style=\"text-align: right;\">\n",
       "      <th></th>\n",
       "      <th>Date</th>\n",
       "      <th>City</th>\n",
       "      <th>Temperature</th>\n",
       "      <th>Sales</th>\n",
       "    </tr>\n",
       "  </thead>\n",
       "  <tbody>\n",
       "    <tr>\n",
       "      <th>0</th>\n",
       "      <td>2012-01-01</td>\n",
       "      <td>New York City</td>\n",
       "      <td>47.4</td>\n",
       "      <td>36</td>\n",
       "    </tr>\n",
       "    <tr>\n",
       "      <th>1</th>\n",
       "      <td>2012-01-02</td>\n",
       "      <td>New York City</td>\n",
       "      <td>42.9</td>\n",
       "      <td>34</td>\n",
       "    </tr>\n",
       "    <tr>\n",
       "      <th>2</th>\n",
       "      <td>2012-01-03</td>\n",
       "      <td>New York City</td>\n",
       "      <td>29.8</td>\n",
       "      <td>40</td>\n",
       "    </tr>\n",
       "    <tr>\n",
       "      <th>3</th>\n",
       "      <td>2012-01-04</td>\n",
       "      <td>New York City</td>\n",
       "      <td>19.1</td>\n",
       "      <td>35</td>\n",
       "    </tr>\n",
       "    <tr>\n",
       "      <th>4</th>\n",
       "      <td>2012-01-05</td>\n",
       "      <td>New York City</td>\n",
       "      <td>31.7</td>\n",
       "      <td>48</td>\n",
       "    </tr>\n",
       "  </tbody>\n",
       "</table>\n",
       "</div>"
      ],
      "text/plain": [
       "        Date           City  Temperature  Sales\n",
       "0 2012-01-01  New York City         47.4     36\n",
       "1 2012-01-02  New York City         42.9     34\n",
       "2 2012-01-03  New York City         29.8     40\n",
       "3 2012-01-04  New York City         19.1     35\n",
       "4 2012-01-05  New York City         31.7     48"
      ]
     },
     "execution_count": 68,
     "metadata": {},
     "output_type": "execute_result"
    }
   ],
   "source": [
    "df6 = df6.merge(df7, how='left', on='Date')\n",
    "df6.head()"
   ]
  },
  {
   "cell_type": "code",
   "execution_count": 70,
   "metadata": {},
   "outputs": [],
   "source": [
    "df6.to_csv('result5.csv',sep='\\t')"
   ]
  },
  {
   "cell_type": "code",
   "execution_count": 50,
   "metadata": {
    "id": "PtBizxda9J3J"
   },
   "outputs": [
    {
     "data": {
      "text/html": [
       "<div>\n",
       "<style scoped>\n",
       "    .dataframe tbody tr th:only-of-type {\n",
       "        vertical-align: middle;\n",
       "    }\n",
       "\n",
       "    .dataframe tbody tr th {\n",
       "        vertical-align: top;\n",
       "    }\n",
       "\n",
       "    .dataframe thead th {\n",
       "        text-align: right;\n",
       "    }\n",
       "</style>\n",
       "<table border=\"1\" class=\"dataframe\">\n",
       "  <thead>\n",
       "    <tr style=\"text-align: right;\">\n",
       "      <th></th>\n",
       "      <th>Date</th>\n",
       "      <th>City</th>\n",
       "      <th>Temperature</th>\n",
       "      <th>Sales</th>\n",
       "    </tr>\n",
       "  </thead>\n",
       "  <tbody>\n",
       "    <tr>\n",
       "      <th>0</th>\n",
       "      <td>2012-01-01 00:00:00</td>\n",
       "      <td>New York City</td>\n",
       "      <td>47.4</td>\n",
       "      <td>NaN</td>\n",
       "    </tr>\n",
       "    <tr>\n",
       "      <th>1</th>\n",
       "      <td>2012-01-02 00:00:00</td>\n",
       "      <td>New York City</td>\n",
       "      <td>42.9</td>\n",
       "      <td>NaN</td>\n",
       "    </tr>\n",
       "    <tr>\n",
       "      <th>2</th>\n",
       "      <td>2012-01-03 00:00:00</td>\n",
       "      <td>New York City</td>\n",
       "      <td>29.8</td>\n",
       "      <td>NaN</td>\n",
       "    </tr>\n",
       "    <tr>\n",
       "      <th>3</th>\n",
       "      <td>2012-01-04 00:00:00</td>\n",
       "      <td>New York City</td>\n",
       "      <td>19.1</td>\n",
       "      <td>NaN</td>\n",
       "    </tr>\n",
       "    <tr>\n",
       "      <th>4</th>\n",
       "      <td>2012-01-05 00:00:00</td>\n",
       "      <td>New York City</td>\n",
       "      <td>31.7</td>\n",
       "      <td>NaN</td>\n",
       "    </tr>\n",
       "    <tr>\n",
       "      <th>...</th>\n",
       "      <td>...</td>\n",
       "      <td>...</td>\n",
       "      <td>...</td>\n",
       "      <td>...</td>\n",
       "    </tr>\n",
       "    <tr>\n",
       "      <th>727</th>\n",
       "      <td>2012-12-27</td>\n",
       "      <td>NaN</td>\n",
       "      <td>NaN</td>\n",
       "      <td>48.0</td>\n",
       "    </tr>\n",
       "    <tr>\n",
       "      <th>728</th>\n",
       "      <td>2012-12-28</td>\n",
       "      <td>NaN</td>\n",
       "      <td>NaN</td>\n",
       "      <td>47.0</td>\n",
       "    </tr>\n",
       "    <tr>\n",
       "      <th>729</th>\n",
       "      <td>2012-12-29</td>\n",
       "      <td>NaN</td>\n",
       "      <td>NaN</td>\n",
       "      <td>33.0</td>\n",
       "    </tr>\n",
       "    <tr>\n",
       "      <th>730</th>\n",
       "      <td>2012-12-30</td>\n",
       "      <td>NaN</td>\n",
       "      <td>NaN</td>\n",
       "      <td>36.0</td>\n",
       "    </tr>\n",
       "    <tr>\n",
       "      <th>731</th>\n",
       "      <td>2012-12-31</td>\n",
       "      <td>NaN</td>\n",
       "      <td>NaN</td>\n",
       "      <td>39.0</td>\n",
       "    </tr>\n",
       "  </tbody>\n",
       "</table>\n",
       "<p>732 rows × 4 columns</p>\n",
       "</div>"
      ],
      "text/plain": [
       "                    Date           City  Temperature  Sales\n",
       "0    2012-01-01 00:00:00  New York City         47.4    NaN\n",
       "1    2012-01-02 00:00:00  New York City         42.9    NaN\n",
       "2    2012-01-03 00:00:00  New York City         29.8    NaN\n",
       "3    2012-01-04 00:00:00  New York City         19.1    NaN\n",
       "4    2012-01-05 00:00:00  New York City         31.7    NaN\n",
       "..                   ...            ...          ...    ...\n",
       "727           2012-12-27            NaN          NaN   48.0\n",
       "728           2012-12-28            NaN          NaN   47.0\n",
       "729           2012-12-29            NaN          NaN   33.0\n",
       "730           2012-12-30            NaN          NaN   36.0\n",
       "731           2012-12-31            NaN          NaN   39.0\n",
       "\n",
       "[732 rows x 4 columns]"
      ]
     },
     "execution_count": 50,
     "metadata": {},
     "output_type": "execute_result"
    }
   ],
   "source": [
    "#Возможный вариант объеденения pd.concat([df6,df7], ignore_index=True)"
   ]
  },
  {
   "cell_type": "markdown",
   "metadata": {
    "id": "pR3e-0Ip9J3M"
   },
   "source": [
    "### Задача 10\n",
    "\n",
    "Вы могли заметить, что столбец `Temperature` всех предыдущих датафреймов содержит достаточно высокое значение. Это потому, что данные по температуре приведены для города Нью-Йорк, а в США принято измерять температуру в градусах Фаренгейта, а не Цельсия. Для перевода температуры из градусов Фаренгейта в градусы Цельсия используется следующая формула:\n",
    "\n",
    "$$\n",
    "T_C = (T_F-32)\\times5/9,\n",
    "$$\n",
    "\n",
    "где $T_F$ — температура в градусах Фаренгейта, а $T_C$ — температура в градусах Цельсия.\n",
    "\n",
    "Используя приведённую формулу, добавьте в объединённый датафрейм из предыдущей задачи новый столбец `Temperature_C`, содержащий температуру в градусах Цельсия. Данные по температуре в градусах Фаренгейта приведены в столбце `Temperature`. Полученный датафрейм сохраните в файл `result6.csv`."
   ]
  },
  {
   "cell_type": "code",
   "execution_count": 75,
   "metadata": {
    "id": "alj_4jOT9J3N"
   },
   "outputs": [
    {
     "data": {
      "text/html": [
       "<div>\n",
       "<style scoped>\n",
       "    .dataframe tbody tr th:only-of-type {\n",
       "        vertical-align: middle;\n",
       "    }\n",
       "\n",
       "    .dataframe tbody tr th {\n",
       "        vertical-align: top;\n",
       "    }\n",
       "\n",
       "    .dataframe thead th {\n",
       "        text-align: right;\n",
       "    }\n",
       "</style>\n",
       "<table border=\"1\" class=\"dataframe\">\n",
       "  <thead>\n",
       "    <tr style=\"text-align: right;\">\n",
       "      <th></th>\n",
       "      <th>Date</th>\n",
       "      <th>City</th>\n",
       "      <th>Temperature</th>\n",
       "    </tr>\n",
       "    <tr>\n",
       "      <th>id</th>\n",
       "      <th></th>\n",
       "      <th></th>\n",
       "      <th></th>\n",
       "    </tr>\n",
       "  </thead>\n",
       "  <tbody>\n",
       "    <tr>\n",
       "      <th>32208</th>\n",
       "      <td>2012-01-01</td>\n",
       "      <td>New York City</td>\n",
       "      <td>47.4</td>\n",
       "    </tr>\n",
       "    <tr>\n",
       "      <th>32209</th>\n",
       "      <td>2012-01-02</td>\n",
       "      <td>New York City</td>\n",
       "      <td>42.9</td>\n",
       "    </tr>\n",
       "    <tr>\n",
       "      <th>32210</th>\n",
       "      <td>2012-01-03</td>\n",
       "      <td>New York City</td>\n",
       "      <td>29.8</td>\n",
       "    </tr>\n",
       "    <tr>\n",
       "      <th>32211</th>\n",
       "      <td>2012-01-04</td>\n",
       "      <td>New York City</td>\n",
       "      <td>19.1</td>\n",
       "    </tr>\n",
       "    <tr>\n",
       "      <th>32212</th>\n",
       "      <td>2012-01-05</td>\n",
       "      <td>New York City</td>\n",
       "      <td>31.7</td>\n",
       "    </tr>\n",
       "  </tbody>\n",
       "</table>\n",
       "</div>"
      ],
      "text/plain": [
       "            Date           City  Temperature\n",
       "id                                          \n",
       "32208 2012-01-01  New York City         47.4\n",
       "32209 2012-01-02  New York City         42.9\n",
       "32210 2012-01-03  New York City         29.8\n",
       "32211 2012-01-04  New York City         19.1\n",
       "32212 2012-01-05  New York City         31.7"
      ]
     },
     "execution_count": 75,
     "metadata": {},
     "output_type": "execute_result"
    }
   ],
   "source": [
    "df8=pd.read_csv('Homework2.csv',sep=';',index_col=0,parse_dates=['Date'],dayfirst=True)\n",
    "df8.head()"
   ]
  },
  {
   "cell_type": "code",
   "execution_count": 76,
   "metadata": {},
   "outputs": [],
   "source": [
    "f=lambda x:(x-32)*5/9"
   ]
  },
  {
   "cell_type": "code",
   "execution_count": 87,
   "metadata": {},
   "outputs": [
    {
     "data": {
      "text/html": [
       "<div>\n",
       "<style scoped>\n",
       "    .dataframe tbody tr th:only-of-type {\n",
       "        vertical-align: middle;\n",
       "    }\n",
       "\n",
       "    .dataframe tbody tr th {\n",
       "        vertical-align: top;\n",
       "    }\n",
       "\n",
       "    .dataframe thead th {\n",
       "        text-align: right;\n",
       "    }\n",
       "</style>\n",
       "<table border=\"1\" class=\"dataframe\">\n",
       "  <thead>\n",
       "    <tr style=\"text-align: right;\">\n",
       "      <th></th>\n",
       "      <th>Date</th>\n",
       "      <th>City</th>\n",
       "      <th>Temperature</th>\n",
       "      <th>Temperature_C</th>\n",
       "    </tr>\n",
       "    <tr>\n",
       "      <th>id</th>\n",
       "      <th></th>\n",
       "      <th></th>\n",
       "      <th></th>\n",
       "      <th></th>\n",
       "    </tr>\n",
       "  </thead>\n",
       "  <tbody>\n",
       "    <tr>\n",
       "      <th>32208</th>\n",
       "      <td>2012-01-01</td>\n",
       "      <td>New York City</td>\n",
       "      <td>47.4</td>\n",
       "      <td>8.555556</td>\n",
       "    </tr>\n",
       "    <tr>\n",
       "      <th>32209</th>\n",
       "      <td>2012-01-02</td>\n",
       "      <td>New York City</td>\n",
       "      <td>42.9</td>\n",
       "      <td>6.055556</td>\n",
       "    </tr>\n",
       "    <tr>\n",
       "      <th>32210</th>\n",
       "      <td>2012-01-03</td>\n",
       "      <td>New York City</td>\n",
       "      <td>29.8</td>\n",
       "      <td>-1.222222</td>\n",
       "    </tr>\n",
       "    <tr>\n",
       "      <th>32211</th>\n",
       "      <td>2012-01-04</td>\n",
       "      <td>New York City</td>\n",
       "      <td>19.1</td>\n",
       "      <td>-7.166667</td>\n",
       "    </tr>\n",
       "    <tr>\n",
       "      <th>32212</th>\n",
       "      <td>2012-01-05</td>\n",
       "      <td>New York City</td>\n",
       "      <td>31.7</td>\n",
       "      <td>-0.166667</td>\n",
       "    </tr>\n",
       "  </tbody>\n",
       "</table>\n",
       "</div>"
      ],
      "text/plain": [
       "            Date           City  Temperature  Temperature_C\n",
       "id                                                         \n",
       "32208 2012-01-01  New York City         47.4       8.555556\n",
       "32209 2012-01-02  New York City         42.9       6.055556\n",
       "32210 2012-01-03  New York City         29.8      -1.222222\n",
       "32211 2012-01-04  New York City         19.1      -7.166667\n",
       "32212 2012-01-05  New York City         31.7      -0.166667"
      ]
     },
     "execution_count": 87,
     "metadata": {},
     "output_type": "execute_result"
    }
   ],
   "source": [
    "df8['Temperature_C']=df8['Temperature'].agg(f)\n",
    "df8.head()"
   ]
  },
  {
   "cell_type": "code",
   "execution_count": 88,
   "metadata": {},
   "outputs": [],
   "source": [
    "df8.to_csv('result6.csv',sep=',')"
   ]
  },
  {
   "cell_type": "markdown",
   "metadata": {
    "id": "RUJSa9th9J3P"
   },
   "source": [
    "### Задача 11\n",
    "\n",
    "Используя объединённый датафрейм из предыдущей задачи, постройте график Scatter зависимости продаж (столбец `Sales`) от температуры (столбец `Temperature_C`) с помощью библиотеки Matplotlib. Попробуйте сделать предположение о зависимости продаж от температуры. Как вы думаете, продажи какого товара приведены в датафрейме? Почему? (Ответ запишите в блоке ### YOUR COMMENTS HERE ###.)"
   ]
  },
  {
   "cell_type": "code",
   "execution_count": 89,
   "metadata": {
    "id": "fTljePy-9J3Q"
   },
   "outputs": [
    {
     "data": {
      "text/html": [
       "<div>\n",
       "<style scoped>\n",
       "    .dataframe tbody tr th:only-of-type {\n",
       "        vertical-align: middle;\n",
       "    }\n",
       "\n",
       "    .dataframe tbody tr th {\n",
       "        vertical-align: top;\n",
       "    }\n",
       "\n",
       "    .dataframe thead th {\n",
       "        text-align: right;\n",
       "    }\n",
       "</style>\n",
       "<table border=\"1\" class=\"dataframe\">\n",
       "  <thead>\n",
       "    <tr style=\"text-align: right;\">\n",
       "      <th></th>\n",
       "      <th>Date</th>\n",
       "      <th>City</th>\n",
       "      <th>Temperature</th>\n",
       "      <th>Sales</th>\n",
       "    </tr>\n",
       "  </thead>\n",
       "  <tbody>\n",
       "    <tr>\n",
       "      <th>0</th>\n",
       "      <td>2012-01-01</td>\n",
       "      <td>New York City</td>\n",
       "      <td>47.4</td>\n",
       "      <td>36</td>\n",
       "    </tr>\n",
       "    <tr>\n",
       "      <th>1</th>\n",
       "      <td>2012-01-02</td>\n",
       "      <td>New York City</td>\n",
       "      <td>42.9</td>\n",
       "      <td>34</td>\n",
       "    </tr>\n",
       "    <tr>\n",
       "      <th>2</th>\n",
       "      <td>2012-01-03</td>\n",
       "      <td>New York City</td>\n",
       "      <td>29.8</td>\n",
       "      <td>40</td>\n",
       "    </tr>\n",
       "    <tr>\n",
       "      <th>3</th>\n",
       "      <td>2012-01-04</td>\n",
       "      <td>New York City</td>\n",
       "      <td>19.1</td>\n",
       "      <td>35</td>\n",
       "    </tr>\n",
       "    <tr>\n",
       "      <th>4</th>\n",
       "      <td>2012-01-05</td>\n",
       "      <td>New York City</td>\n",
       "      <td>31.7</td>\n",
       "      <td>48</td>\n",
       "    </tr>\n",
       "  </tbody>\n",
       "</table>\n",
       "</div>"
      ],
      "text/plain": [
       "         Date           City  Temperature  Sales\n",
       "0  2012-01-01  New York City         47.4     36\n",
       "1  2012-01-02  New York City         42.9     34\n",
       "2  2012-01-03  New York City         29.8     40\n",
       "3  2012-01-04  New York City         19.1     35\n",
       "4  2012-01-05  New York City         31.7     48"
      ]
     },
     "execution_count": 89,
     "metadata": {},
     "output_type": "execute_result"
    }
   ],
   "source": [
    "df9=pd.read_csv('result5.csv',sep='\\t',index_col=0)\n",
    "df9.head()"
   ]
  },
  {
   "cell_type": "code",
   "execution_count": 90,
   "metadata": {},
   "outputs": [
    {
     "data": {
      "text/html": [
       "<div>\n",
       "<style scoped>\n",
       "    .dataframe tbody tr th:only-of-type {\n",
       "        vertical-align: middle;\n",
       "    }\n",
       "\n",
       "    .dataframe tbody tr th {\n",
       "        vertical-align: top;\n",
       "    }\n",
       "\n",
       "    .dataframe thead th {\n",
       "        text-align: right;\n",
       "    }\n",
       "</style>\n",
       "<table border=\"1\" class=\"dataframe\">\n",
       "  <thead>\n",
       "    <tr style=\"text-align: right;\">\n",
       "      <th></th>\n",
       "      <th>Date</th>\n",
       "      <th>City</th>\n",
       "      <th>Temperature</th>\n",
       "      <th>Sales</th>\n",
       "      <th>Temperature_C</th>\n",
       "    </tr>\n",
       "  </thead>\n",
       "  <tbody>\n",
       "    <tr>\n",
       "      <th>0</th>\n",
       "      <td>2012-01-01</td>\n",
       "      <td>New York City</td>\n",
       "      <td>47.4</td>\n",
       "      <td>36</td>\n",
       "      <td>8.555556</td>\n",
       "    </tr>\n",
       "    <tr>\n",
       "      <th>1</th>\n",
       "      <td>2012-01-02</td>\n",
       "      <td>New York City</td>\n",
       "      <td>42.9</td>\n",
       "      <td>34</td>\n",
       "      <td>6.055556</td>\n",
       "    </tr>\n",
       "    <tr>\n",
       "      <th>2</th>\n",
       "      <td>2012-01-03</td>\n",
       "      <td>New York City</td>\n",
       "      <td>29.8</td>\n",
       "      <td>40</td>\n",
       "      <td>-1.222222</td>\n",
       "    </tr>\n",
       "    <tr>\n",
       "      <th>3</th>\n",
       "      <td>2012-01-04</td>\n",
       "      <td>New York City</td>\n",
       "      <td>19.1</td>\n",
       "      <td>35</td>\n",
       "      <td>-7.166667</td>\n",
       "    </tr>\n",
       "    <tr>\n",
       "      <th>4</th>\n",
       "      <td>2012-01-05</td>\n",
       "      <td>New York City</td>\n",
       "      <td>31.7</td>\n",
       "      <td>48</td>\n",
       "      <td>-0.166667</td>\n",
       "    </tr>\n",
       "  </tbody>\n",
       "</table>\n",
       "</div>"
      ],
      "text/plain": [
       "         Date           City  Temperature  Sales  Temperature_C\n",
       "0  2012-01-01  New York City         47.4     36       8.555556\n",
       "1  2012-01-02  New York City         42.9     34       6.055556\n",
       "2  2012-01-03  New York City         29.8     40      -1.222222\n",
       "3  2012-01-04  New York City         19.1     35      -7.166667\n",
       "4  2012-01-05  New York City         31.7     48      -0.166667"
      ]
     },
     "execution_count": 90,
     "metadata": {},
     "output_type": "execute_result"
    }
   ],
   "source": [
    "df9['Temperature_C']=df9['Temperature'].agg(f)\n",
    "df9.head()"
   ]
  },
  {
   "cell_type": "code",
   "execution_count": 96,
   "metadata": {},
   "outputs": [
    {
     "data": {
      "text/plain": [
       "Text(0, 0.5, 'Объем продаж')"
      ]
     },
     "execution_count": 96,
     "metadata": {},
     "output_type": "execute_result"
    },
    {
     "data": {
      "image/png": "[encoded data removed]",
      "text/plain": [
       "<Figure size 640x480 with 1 Axes>"
      ]
     },
     "metadata": {},
     "output_type": "display_data"
    }
   ],
   "source": [
    "plt.scatter(df9['Temperature_C'],df9['Sales'])\n",
    "plt.title('Зависимостm продаж от температуры')\n",
    "plt.xlabel('Температура')\n",
    "plt.ylabel('Объем продаж')\n"
   ]
  },
  {
   "cell_type": "markdown",
   "metadata": {
    "id": "NR5HApYS9J3S"
   },
   "source": [
    "**Ответ:**\n",
    "Возможно тут представлен объём продаж мороженого. так-как при увиличении температуры объем продаж увеличивается"
   ]
  }
 ],
 "metadata": {
  "colab": {
   "provenance": []
  },
  "kernelspec": {
   "display_name": "Python 3 (ipykernel)",
   "language": "python",
   "name": "python3"
  },
  "language_info": {
   "codemirror_mode": {
    "name": "ipython",
    "version": 3
   },
   "file_extension": ".py",
   "mimetype": "text/x-python",
   "name": "python",
   "nbconvert_exporter": "python",
   "pygments_lexer": "ipython3",
   "version": "3.10.9"
  }
 },
 "nbformat": 4,
 "nbformat_minor": 1
}
