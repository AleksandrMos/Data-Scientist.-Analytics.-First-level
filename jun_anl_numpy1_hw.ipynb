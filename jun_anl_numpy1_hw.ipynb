{
 "cells": [
  {
   "cell_type": "code",
   "execution_count": 1,
   "id": "86ed4a4d",
   "metadata": {},
   "outputs": [
    {
     "name": "stdout",
     "output_type": "stream",
     "text": [
      "Задание 1\n"
     ]
    }
   ],
   "source": [
    "print ('Задание 1')"
   ]
  },
  {
   "cell_type": "code",
   "execution_count": 2,
   "id": "d5cd04e2",
   "metadata": {},
   "outputs": [],
   "source": [
    "import numpy as np\n"
   ]
  },
  {
   "cell_type": "code",
   "execution_count": 3,
   "id": "997e0afa",
   "metadata": {},
   "outputs": [],
   "source": [
    "scores = np.array([[20, 40, 56, 80, 0, 5, 25, 27, 74, 1],\n",
    " [0, 98, 67, 100, 8, 56, 34, 82, 100, 7],\n",
    " [78, 54, 23, 79, 100, 0, 0, 42, 95, 83],\n",
    " [51, 50, 47, 23, 100, 94, 25, 48, 38, 77],\n",
    " [90, 87, 41, 89, 52, 0, 5, 17, 28, 99],\n",
    " [32, 18, 21, 18, 29, 31, 48, 62, 76, 22],\n",
    " [6, 0, 65, 78, 43, 22, 38, 88, 94, 100],\n",
    " [77, 28, 39, 41, 0, 81, 45, 54, 98, 12],\n",
    " [66, 0, 88, 0, 44, 0, 55, 100, 12, 11],\n",
    " [17, 70, 86, 96, 56, 23, 32, 49, 70, 80],\n",
    " [20, 24, 76, 50, 29, 40, 3, 2, 5, 11],\n",
    " [33, 63, 28, 40, 51, 100, 98, 87, 22, 30],\n",
    " [16, 54, 78, 12, 25, 35, 10, 19, 67, 0],\n",
    " [100, 88, 24, 33, 47, 56, 62, 34, 77, 53],\n",
    " [50, 89, 70, 72, 56, 29, 15, 20, 0, 0]])\n"
   ]
  },
  {
   "cell_type": "code",
   "execution_count": 4,
   "id": "c8ad76eb",
   "metadata": {},
   "outputs": [
    {
     "data": {
      "text/plain": [
       "13"
      ]
     },
     "execution_count": 4,
     "metadata": {},
     "output_type": "execute_result"
    }
   ],
   "source": [
    "scores [scores<=0].size"
   ]
  },
  {
   "cell_type": "code",
   "execution_count": 5,
   "id": "bba54e75",
   "metadata": {},
   "outputs": [
    {
     "name": "stdout",
     "output_type": "stream",
     "text": [
      "Задание 2\n"
     ]
    }
   ],
   "source": [
    "print ('Задание 2')"
   ]
  },
  {
   "cell_type": "code",
   "execution_count": 6,
   "id": "e860bb68",
   "metadata": {},
   "outputs": [
    {
     "data": {
      "text/plain": [
       "67"
      ]
     },
     "execution_count": 6,
     "metadata": {},
     "output_type": "execute_result"
    }
   ],
   "source": [
    "scores [scores>=50].size"
   ]
  },
  {
   "cell_type": "code",
   "execution_count": 7,
   "id": "85b4e0c4",
   "metadata": {},
   "outputs": [
    {
     "name": "stdout",
     "output_type": "stream",
     "text": [
      "Задание 3\n"
     ]
    }
   ],
   "source": [
    "print ('Задание 3')"
   ]
  },
  {
   "cell_type": "code",
   "execution_count": 8,
   "id": "5781e93c",
   "metadata": {},
   "outputs": [
    {
     "data": {
      "text/plain": [
       "26"
      ]
     },
     "execution_count": 8,
     "metadata": {},
     "output_type": "execute_result"
    }
   ],
   "source": [
    "scores [(scores >=50) & (scores <=70) ].size"
   ]
  },
  {
   "cell_type": "code",
   "execution_count": 9,
   "id": "369e8ef9",
   "metadata": {},
   "outputs": [
    {
     "name": "stdout",
     "output_type": "stream",
     "text": [
      "Задание 4\n"
     ]
    }
   ],
   "source": [
    "print ('Задание 4')"
   ]
  },
  {
   "cell_type": "code",
   "execution_count": 10,
   "id": "43ab9bb2",
   "metadata": {},
   "outputs": [],
   "source": [
    "a = scores.mean (axis=1) "
   ]
  },
  {
   "cell_type": "code",
   "execution_count": 11,
   "id": "f0b1202b",
   "metadata": {},
   "outputs": [
    {
     "data": {
      "text/plain": [
       "15"
      ]
     },
     "execution_count": 11,
     "metadata": {},
     "output_type": "execute_result"
    }
   ],
   "source": [
    "a.size"
   ]
  },
  {
   "cell_type": "code",
   "execution_count": 12,
   "id": "d4964bfd",
   "metadata": {},
   "outputs": [
    {
     "data": {
      "text/plain": [
       "57.9"
      ]
     },
     "execution_count": 12,
     "metadata": {},
     "output_type": "execute_result"
    }
   ],
   "source": [
    "a.max ()"
   ]
  },
  {
   "cell_type": "code",
   "execution_count": 13,
   "id": "433df066",
   "metadata": {},
   "outputs": [
    {
     "data": {
      "text/plain": [
       "array([32.8, 55.2, 55.4, 55.3, 50.8, 35.7, 53.4, 47.5, 37.6, 57.9, 26. ,\n",
       "       55.2, 31.6, 57.4, 40.1])"
      ]
     },
     "execution_count": 13,
     "metadata": {},
     "output_type": "execute_result"
    }
   ],
   "source": [
    "a"
   ]
  },
  {
   "cell_type": "code",
   "execution_count": 14,
   "id": "4cc7d8bc",
   "metadata": {},
   "outputs": [
    {
     "data": {
      "text/plain": [
       "9"
      ]
     },
     "execution_count": 14,
     "metadata": {},
     "output_type": "execute_result"
    }
   ],
   "source": [
    "a.argmax()"
   ]
  },
  {
   "cell_type": "code",
   "execution_count": 15,
   "id": "a699fa30",
   "metadata": {},
   "outputs": [
    {
     "name": "stdout",
     "output_type": "stream",
     "text": [
      "Задание 5\n"
     ]
    }
   ],
   "source": [
    "print ('Задание 5')"
   ]
  },
  {
   "cell_type": "code",
   "execution_count": 16,
   "id": "f78b6012",
   "metadata": {},
   "outputs": [],
   "source": [
    "nonzero=scores[scores>0]"
   ]
  },
  {
   "cell_type": "code",
   "execution_count": 17,
   "id": "5bc08e38",
   "metadata": {},
   "outputs": [
    {
     "data": {
      "text/plain": [
       "array([ 20,  40,  56,  80,   5,  25,  27,  74,   1,  98,  67, 100,   8,\n",
       "        56,  34,  82, 100,   7,  78,  54,  23,  79, 100,  42,  95,  83,\n",
       "        51,  50,  47,  23, 100,  94,  25,  48,  38,  77,  90,  87,  41,\n",
       "        89,  52,   5,  17,  28,  99,  32,  18,  21,  18,  29,  31,  48,\n",
       "        62,  76,  22,   6,  65,  78,  43,  22,  38,  88,  94, 100,  77,\n",
       "        28,  39,  41,  81,  45,  54,  98,  12,  66,  88,  44,  55, 100,\n",
       "        12,  11,  17,  70,  86,  96,  56,  23,  32,  49,  70,  80,  20,\n",
       "        24,  76,  50,  29,  40,   3,   2,   5,  11,  33,  63,  28,  40,\n",
       "        51, 100,  98,  87,  22,  30,  16,  54,  78,  12,  25,  35,  10,\n",
       "        19,  67, 100,  88,  24,  33,  47,  56,  62,  34,  77,  53,  50,\n",
       "        89,  70,  72,  56,  29,  15,  20])"
      ]
     },
     "execution_count": 17,
     "metadata": {},
     "output_type": "execute_result"
    }
   ],
   "source": [
    "nonzero"
   ]
  },
  {
   "cell_type": "code",
   "execution_count": 18,
   "id": "850ea6d6",
   "metadata": {},
   "outputs": [
    {
     "name": "stdout",
     "output_type": "stream",
     "text": [
      "Задание 6\n"
     ]
    }
   ],
   "source": [
    "print ('Задание 6')"
   ]
  },
  {
   "cell_type": "code",
   "execution_count": 19,
   "id": "b927ef72",
   "metadata": {},
   "outputs": [
    {
     "data": {
      "text/plain": [
       "1"
      ]
     },
     "execution_count": 19,
     "metadata": {},
     "output_type": "execute_result"
    }
   ],
   "source": [
    "nonzero.min()"
   ]
  },
  {
   "cell_type": "code",
   "execution_count": 20,
   "id": "c3792992",
   "metadata": {},
   "outputs": [
    {
     "name": "stdout",
     "output_type": "stream",
     "text": [
      "Задание 7\n"
     ]
    }
   ],
   "source": [
    "print ('Задание 7')"
   ]
  },
  {
   "cell_type": "code",
   "execution_count": 21,
   "id": "8ca71c04",
   "metadata": {},
   "outputs": [],
   "source": [
    " advanced=nonzero[nonzero>=80]"
   ]
  },
  {
   "cell_type": "code",
   "execution_count": 22,
   "id": "2de5cd16",
   "metadata": {},
   "outputs": [
    {
     "data": {
      "text/plain": [
       "array([ 80,  98, 100,  82, 100, 100,  95,  83, 100,  94,  90,  87,  89,\n",
       "        99,  88,  94, 100,  81,  98,  88, 100,  86,  96,  80, 100,  98,\n",
       "        87, 100,  88,  89])"
      ]
     },
     "execution_count": 22,
     "metadata": {},
     "output_type": "execute_result"
    }
   ],
   "source": [
    "advanced"
   ]
  },
  {
   "cell_type": "code",
   "execution_count": 23,
   "id": "e66d5488",
   "metadata": {},
   "outputs": [
    {
     "name": "stdout",
     "output_type": "stream",
     "text": [
      "Задание 8\n"
     ]
    }
   ],
   "source": [
    "print ('Задание 8')"
   ]
  },
  {
   "cell_type": "code",
   "execution_count": 32,
   "id": "c2073311",
   "metadata": {},
   "outputs": [
    {
     "data": {
      "text/plain": [
       "1"
      ]
     },
     "execution_count": 32,
     "metadata": {},
     "output_type": "execute_result"
    }
   ],
   "source": [
    " advanced.ndim"
   ]
  },
  {
   "cell_type": "code",
   "execution_count": 26,
   "id": "cc0087a5",
   "metadata": {},
   "outputs": [
    {
     "name": "stdout",
     "output_type": "stream",
     "text": [
      "Задание 9\n"
     ]
    }
   ],
   "source": [
    "print ('Задание 9')"
   ]
  },
  {
   "cell_type": "code",
   "execution_count": 27,
   "id": "97489a1f",
   "metadata": {},
   "outputs": [
    {
     "data": {
      "text/plain": [
       "(30,)"
      ]
     },
     "execution_count": 27,
     "metadata": {},
     "output_type": "execute_result"
    }
   ],
   "source": [
    "advanced.shape"
   ]
  },
  {
   "cell_type": "code",
   "execution_count": 28,
   "id": "599cce3a",
   "metadata": {},
   "outputs": [
    {
     "name": "stdout",
     "output_type": "stream",
     "text": [
      "Задание 10\n"
     ]
    }
   ],
   "source": [
    "print ('Задание 10')"
   ]
  },
  {
   "cell_type": "code",
   "execution_count": 29,
   "id": "0a22f8bb",
   "metadata": {},
   "outputs": [
    {
     "data": {
      "text/plain": [
       "30"
      ]
     },
     "execution_count": 29,
     "metadata": {},
     "output_type": "execute_result"
    }
   ],
   "source": [
    " advanced.size"
   ]
  },
  {
   "cell_type": "code",
   "execution_count": 33,
   "id": "a24ad502",
   "metadata": {},
   "outputs": [
    {
     "name": "stdout",
     "output_type": "stream",
     "text": [
      "Задание 11\n"
     ]
    }
   ],
   "source": [
    "print ('Задание 11')"
   ]
  },
  {
   "cell_type": "code",
   "execution_count": 34,
   "id": "f98eb46e",
   "metadata": {},
   "outputs": [],
   "source": [
    "sto=(scores>=100)"
   ]
  },
  {
   "cell_type": "code",
   "execution_count": 35,
   "id": "90611824",
   "metadata": {},
   "outputs": [
    {
     "data": {
      "text/plain": [
       "array([[False, False, False, False, False, False, False, False, False,\n",
       "        False],\n",
       "       [False, False, False,  True, False, False, False, False,  True,\n",
       "        False],\n",
       "       [False, False, False, False,  True, False, False, False, False,\n",
       "        False],\n",
       "       [False, False, False, False,  True, False, False, False, False,\n",
       "        False],\n",
       "       [False, False, False, False, False, False, False, False, False,\n",
       "        False],\n",
       "       [False, False, False, False, False, False, False, False, False,\n",
       "        False],\n",
       "       [False, False, False, False, False, False, False, False, False,\n",
       "         True],\n",
       "       [False, False, False, False, False, False, False, False, False,\n",
       "        False],\n",
       "       [False, False, False, False, False, False, False,  True, False,\n",
       "        False],\n",
       "       [False, False, False, False, False, False, False, False, False,\n",
       "        False],\n",
       "       [False, False, False, False, False, False, False, False, False,\n",
       "        False],\n",
       "       [False, False, False, False, False,  True, False, False, False,\n",
       "        False],\n",
       "       [False, False, False, False, False, False, False, False, False,\n",
       "        False],\n",
       "       [ True, False, False, False, False, False, False, False, False,\n",
       "        False],\n",
       "       [False, False, False, False, False, False, False, False, False,\n",
       "        False]])"
      ]
     },
     "execution_count": 35,
     "metadata": {},
     "output_type": "execute_result"
    }
   ],
   "source": [
    "sto"
   ]
  },
  {
   "cell_type": "code",
   "execution_count": 36,
   "id": "e4119fb5",
   "metadata": {},
   "outputs": [
    {
     "name": "stdout",
     "output_type": "stream",
     "text": [
      "Задание 12\n"
     ]
    }
   ],
   "source": [
    "print ('Задание 12')"
   ]
  },
  {
   "cell_type": "code",
   "execution_count": 37,
   "id": "92ed08a0",
   "metadata": {},
   "outputs": [
    {
     "data": {
      "text/plain": [
       "array([[ 20,  40,  56,  80,   0,   5,  25,  27,  74,   1],\n",
       "       [  0,  98,  67, 100,   8,  56,  34,  82, 100,   7],\n",
       "       [ 78,  54,  23,  79, 100,   0,   0,  42,  95,  83],\n",
       "       [ 51,  50,  47,  23, 100,  94,  25,  48,  38,  77],\n",
       "       [ 90,  87,  41,  89,  52,   0,   5,  17,  28,  99],\n",
       "       [ 32,  18,  21,  18,  29,  31,  48,  62,  76,  22],\n",
       "       [  6,   0,  65,  78,  43,  22,  38,  88,  94, 100]])"
      ]
     },
     "execution_count": 37,
     "metadata": {},
     "output_type": "execute_result"
    }
   ],
   "source": [
    "scores[0:7]"
   ]
  },
  {
   "cell_type": "code",
   "execution_count": null,
   "id": "54861d5a",
   "metadata": {},
   "outputs": [],
   "source": []
  }
 ],
 "metadata": {
  "kernelspec": {
   "display_name": "Python 3 (ipykernel)",
   "language": "python",
   "name": "python3"
  },
  "language_info": {
   "codemirror_mode": {
    "name": "ipython",
    "version": 3
   },
   "file_extension": ".py",
   "mimetype": "text/x-python",
   "name": "python",
   "nbconvert_exporter": "python",
   "pygments_lexer": "ipython3",
   "version": "3.10.9"
  }
 },
 "nbformat": 4,
 "nbformat_minor": 5
}
